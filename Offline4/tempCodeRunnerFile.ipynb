eigenvalues, eigenvectors = np.linalg.eigh(cov_matrix)

# # 2.5: Sort eigenvalues and eigenvectors in descending order of eigenvalues
# sorted_indices = np.argsort(eigenvalues)[::-1]
# eigenvalues = eigenvalues[sorted_indices]
# eigenvectors = eigenvectors[:, sorted_indices]

# # Step 3: Project data onto the two leading eigenvectors
# projected_data = data_centered.dot(eigenvectors[:, :2])

# # Step 4: Create a 2D scatter plot of the projected data
# plt.figure(figsize=(8, 6))
# plt.scatter(projected_data[:, 0], projected_data[:, 1], s=10, alpha=0.7)
# plt.xlabel('Principal Component 1')
# plt.ylabel('Principal Component 2')
# plt.title('PCA - 2D Projection')
# plt.grid(True)
# plt.show()

# # Step 5: Use library functions to create UMAP and t-SNE plots
# # 5.1: Create UMAP plot
# umap_model = umap.UMAP(n_neighbors=15, min_dist=0.1)
# umap_embedding = umap_model.fit_transform(data)
# plt.figure(figsize=(8, 6))
# plt.scatter(umap_embedding[:, 0], umap_embedding[:, 1], s=10, alpha=0.7)
# plt.xlabel('UMAP 1')
# plt.ylabel('UMAP 2')
# plt.title('UMAP - 2D Projection')
# plt.grid(True)
# plt.show()

# # 5.2: Create t-SNE plot
# tsne_model = TSNE(n_components=2, perplexity=30, random_state=42)
# tsne_embedding = tsne_model.fit_transform(data)
# plt.figure(figsize=(8, 6))
# plt.scatter(tsne_embedding[:, 0], tsne_embedding[:, 1], s=10, alpha=0.7)
# plt.xlabel('t-SNE 1')
# plt.ylabel('t-SNE 2')
# plt.title('t-SNE - 2D Projection')
# plt.grid(True)
# plt.show()
